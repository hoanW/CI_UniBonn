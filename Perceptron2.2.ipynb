{
 "cells": [
  {
   "cell_type": "code",
   "execution_count": 99,
   "metadata": {},
   "outputs": [
    {
     "name": "stdout",
     "output_type": "stream",
     "text": [
      "finale Gewichte [-0.33610287  0.77867168  0.05831654 -0.37062498]\n"
     ]
    },
    {
     "data": {
      "image/png": "[encoded data removed]",
      "text/plain": [
       "<Figure size 432x288 with 1 Axes>"
      ]
     },
     "metadata": {
      "needs_background": "light"
     },
     "output_type": "display_data"
    }
   ],
   "source": [
    "#Bemerkung: Als Aktivierungsfunktion wird Threshold Funktion verwendet (Klasse 1 :falls Input > 0 und Klasse 0 :sonst).\n",
    "#         Learning Rate = 0.4\n",
    "\n",
    "import numpy as np\n",
    "import matplotlib.pyplot as plt\n",
    "\n",
    "class Perceptron(object):\n",
    "\n",
    "    def __init__(self, no_of_inputs, learning_rate=0.01):\n",
    "        self.learning_rate = learning_rate\n",
    "        self.weights = np.random.uniform(low=0, high=1, size=4)\n",
    "        \n",
    "           \n",
    "    def predict(self, inputs):\n",
    "        '''Diese Funktion berechnet die Gewichtssumme der Eingabe \n",
    "           und gibt ihre Klasse mithilfe der Threshold Funktion zurück'''\n",
    "        summation = np.dot(inputs, self.weights[1:]) + self.weights[0]\n",
    "        if summation > 0:\n",
    "          activation = 1\n",
    "        else:\n",
    "          activation = 0          \n",
    "        return activation\n",
    "\n",
    "    def train(self, training_inputs, labels, ax):\n",
    "        '''Gewichte werden hier mithilfe des Delta Lernregels angepasst\n",
    "           Diese Funktion läuft bis dahin, dass es keine Fehler mehr gibt'''\n",
    "            \n",
    "        while True:\n",
    "            for inputs, label in zip(training_inputs, labels):\n",
    "                prediction = self.predict(inputs)\n",
    "                self.weights[1:] += self.learning_rate * (label - prediction) * inputs\n",
    "                self.weights[0] += self.learning_rate * (label - prediction)  \n",
    "                \n",
    "            #gebe die aktuelle Trennlinie nach jeder Iteration zurück\n",
    "            x = np.linspace(-1,2,100)\n",
    "            if self.weights[2] == 0: \n",
    "                ax.plot(x*self.weights[2] - self.weights[0], x )\n",
    "            else:\n",
    "                ax.plot(x, -((self.weights[1]*x+self.weights[0])/self.weights[2]))\n",
    "            \n",
    "            #berechnet die aktuelle quadratische Fehler nach jeder Iteration\n",
    "            currentE = self.SquareError(training_inputs, labels)\n",
    "            \n",
    "            #falls es noch keine Fehler gibt, endet das Training\n",
    "            if currentE == 0:\n",
    "                break\n",
    "            \n",
    "                \n",
    "            \n",
    "    def SquareError(self, training_inputs, labels): \n",
    "        '''Diese Funktion berechnet den quadratischen Fehler'''\n",
    "        E = 0\n",
    "        for inputs, label in zip(training_inputs, labels):\n",
    "            prediction = self.predict(inputs)\n",
    "            E = E + (label - prediction)**2\n",
    "        return (1/2)*E\n",
    "\n",
    "\n",
    "#Eingabe von Inputs und ihre gehörenden erwarteten Klassen\n",
    "training_inputs = np.array([(0,0,1), (0,1,0), (1,0,1), (1,1,0)])\n",
    "labels = [0, 0, 1, 1]\n",
    "\n",
    "\n",
    "#Initialisere den Graph mit gegeben Eingaben-Punkten\n",
    "fig = plt.figure()\n",
    "ax = fig.add_axes([0,0,1,1])\n",
    "ax.set(ylabel='x2', xlabel='x1')\n",
    "ax.set_xlim(-0.3,1.3)\n",
    "ax.set_ylim(-0.3,1.3)\n",
    "ax.grid(True)\n",
    "plt.xticks(np.linspace(0,1,10))\n",
    "plt.yticks(np.linspace(0,1,10))\n",
    "def GraphInitial(training_inputs, labels, ax):\n",
    "    '''Diese Funktion visualisiert die Eingaben auf dem Graph \n",
    "       mit o für die Eingabe der Klasse 0 und x für die der Klasse 1'''\n",
    "    for inputs, labels in zip(training_inputs, labels):\n",
    "        if labels == 0:\n",
    "            ax.plot(inputs[0],inputs[1],marker=\"o\")\n",
    "        else: \n",
    "            ax.plot(inputs[0],inputs[1],marker=\"x\")\n",
    "                \n",
    "GraphInitial(training_inputs, labels, ax)\n",
    "\n",
    "\n",
    "#Erzeuge eine Perceptron mit 3 Inputs und Learning Rate von 0.4\n",
    "ExamplePerceptron = Perceptron(3, 0.4)\n",
    "ExamplePerceptron.train(training_inputs, labels, ax)\n",
    "print(\"finale Gewichte\", ExamplePerceptron.weights)\n",
    "\n",
    "plt.show()"
   ]
  },
  {
   "cell_type": "code",
   "execution_count": null,
   "metadata": {},
   "outputs": [],
   "source": []
  },
  {
   "cell_type": "code",
   "execution_count": null,
   "metadata": {},
   "outputs": [],
   "source": []
  },
  {
   "cell_type": "code",
   "execution_count": null,
   "metadata": {},
   "outputs": [],
   "source": []
  },
  {
   "cell_type": "code",
   "execution_count": null,
   "metadata": {},
   "outputs": [],
   "source": []
  }
 ],
 "metadata": {
  "kernelspec": {
   "display_name": "Python 3",
   "language": "python",
   "name": "python3"
  },
  "language_info": {
   "codemirror_mode": {
    "name": "ipython",
    "version": 3
   },
   "file_extension": ".py",
   "mimetype": "text/x-python",
   "name": "python",
   "nbconvert_exporter": "python",
   "pygments_lexer": "ipython3",
   "version": "3.7.3"
  }
 },
 "nbformat": 4,
 "nbformat_minor": 2
}
