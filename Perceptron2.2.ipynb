{
 "cells": [
  {
   "cell_type": "code",
   "execution_count": 20,
   "metadata": {},
   "outputs": [
    {
     "name": "stdout",
     "output_type": "stream",
     "text": [
      "finale Gewichte [ 0.08171947  0.41830113 -0.71027146  0.0799764 ]\n"
     ]
    },
    {
     "data": {
      "image/png": "iVBORw0KGgoAAAANSUhEUgAAAfAAAAFNCAYAAAD/+D1NAAAABHNCSVQICAgIfAhkiAAAAAlwSFlzAAALEgAACxIB0t1+/AAAADh0RVh0U29mdHdhcmUAbWF0cGxvdGxpYiB2ZXJzaW9uMy4xLjEsIGh0dHA6Ly9tYXRwbG90bGliLm9yZy8QZhcZAAAgAElEQVR4nOzdeXhV133v//dXA/M8msnMYAYRMFgYsEESBpHBJoPtOE7skNghiWOnSa57W/f2Jqnvze9Jm9ym7VPftm7qTG0vTTOSlFjCGgCDGY2tIzEYkDEIsJkHAQIN398fewsfDkcMQoejI31ez6OHs9dee6+1j4Q+Wnvvs7a5OyIiIpJa0pLdAREREblxCnAREZEUpAAXERFJQQpwERGRFKQAFxERSUEKcBERkRSUkewO3Ar9+vXzESNGJLsbKe3s2bN07dpV7apdtat2W327bcmWLVuOunv/uCvdvc1/TZ8+3eXmlJSUqF21q3bVbkq025YAm72JbNMpdBERkRSkABcREUlBCnAREZEUpAAXERFJQQpwERGRFKQAFxERSUEKcBERkRSkABcREUlBCnAREZEUpAAXERFJQQpwERGRFKQAFxERSUEKcBERkRSkABcREUlBCnAREZEUpAAXERFJQQpwERGRFKQAFxERSUEKcBERkRSkABcREUlBCnAREZEUpAAXERFJQQpwERGRFKQAFxERSUEKcBERkRSkABcREUlBCnAREZEUpAAXERFJQQpwERGRFKQAFxERSUEKcBERkRSkABcREUlBCnAREZEUpAAXERFJQQpwERGRFKQAFxERSUEKcBERkRSkABcREUlBCnAREZEUpAAXERFJQQpwERGRFKQAFxERSUEKcBERkRSkABcREUlBCnAREZEUpAAXERFJQQpwERGRFKQAFxERSUEJDXAze8nMDptZeRPrzcz+zsx2m1mZmd0Zte6zZrYr/PpsVPl0M4uE2/ydmVkij0FERKQ1SvQI/MfAoqus/yAwNvxaCvwDgJn1Ab4FzASygW+ZWe9wm38I6zZud7X9y80q+zn8YDLzSj8KP5gcLIuIXMWp3/2OXXnzGfClL7Mrbz6nfve7ZHepTUpogLv7auD4VaosBn7qgfVALzMbBOQDK939uLufAFYCi8J1Pdz9NXd34KfARxN5DO1a2c/hd1+FU/sxHE7tD5YV4iLShFO/+x2H/uc3qTt4EAPqDh7k0P/8pkI8AZJ9DXwIsD9quSosu1p5VZxySYSi56H2/OVlteeDchGROA7/4G/wmprLyrymhsM/+Jsk9ajtykhy+/GuX3szyq/csdlSglPtDBw4kNLS0mZ2sf2ad6oq/ht+qopVt+j9rK6uTsr3Tu2qXbXbPAPCkXes2oMH9Xu4hSU7wKuAYVHLQ4GDYXlOTHlpWD40Tv0ruPuLwIsAM2bM8JycnHjV5Gq2Dg1Om8ewnkO5Ve9naWnpLWtL7apdtXvzdg0eTN3BK38tZw4enJRjb8uSfQp9OfB4eDf63cApdz8EFAALzax3ePPaQqAgXHfGzO4O7z5/HPht0nrf1s3/JmR2vrwss3NQLiISx4Cvfw3r1OmyMuvUiQFf/1qSetR2JXQEbmb/j2Ak3c/MqgjuLM8EcPd/BFYAHwJ2A+eAz4XrjpvZ/wI2hbt63t0bb4b7MsHd7Z2BP4RfkghTHg7+LXoeP1WF9RwahHdjuYhIjJ733w8E18JrDx4kc/BgBnz9a5fKpeUkNMDd/VPXWO/AV5pY9xLwUpzyzcDkFumgXNuUh2HKw6xK0qk/EUk9Pe+/n57335+0SwbtRbJPoYuIiEgzKMBFRERSkAJcREQkBSnARUREUpACXEREJAUpwEVERFKQAlxERCQFKcBFRERSkAJcREQkBSnARUREUpACXEREJAUlNMDNbJGZ7TSz3Wb2p3HW325mJWa21czKzOxDYXmmmf3EzCJmtt3Mnova5o/MrNzMKsxMj7cREZF2KWEPMzGzdOAFYAHBc7w3mdlyd98WVe3PgZ+7+z+Y2USCp5ONAB4COrp7lpl1AbaFTzbrBnwByAYuAi+b2X+5+65EHYeIiEhrlMgReDaw290r3f0isAxYHFPHgR7h657AwajyrmaWQfDY0IvAaWACsN7dz7l7HbAK+FgCj0FERKRVSmSADwH2Ry1XhWXRvg18JnxW+ArgmbD8F8BZ4BCwD/h++DzwcmCumfUNR+YfAoYl7AhERERaKQseyZ2AHZs9BOS7+5Ph8mNAtrs/E1XnG2Ef/o+ZzQL+heBZ37OAp4AlQG9gDfBBd680sycIniFeDWwDzrv71+O0vxRYCjBw4MDpy5YtS8hxthfV1dV069ZN7apdtat2W327bUlubu4Wd58Rd6W7J+SLIIQLopafA56LqVMBDItargQGEFw7fyyq/CXg4Tht/H/AU9fqy/Tp011uTklJidpVu2pX7aZEu20JsNmbyLZEnkLfBIw1s5Fm1gF4BFgeU2cfMB/AzCYAnYAjYXmeBboCdwM7wnoDwn9vBz4O/L8EHoOIiEirlLC70N29zsyeBgqAdOAld68ws+cJ/qJYDvw34J/N7OsEN64tcXc3sxeAHxFc8zbgR+5eFu76l2bWF6gFvuLuJxJ1DCIiIq1VwgIcwN1XENycFl32zajX24A5cbarJvgoWbx93tvC3RQREUk5molNREQkBSnARUREUpACXEREJAUpwEVERFKQAlxERCQFKcBFRERSkAJcREQkBSnARUREUpACXEREJAUpwEVERFKQAlxERCQFJTTAzWyRme00s91m9qdx1v/AzN4Iv94ys5NheW5U+RtmVmNmHw3XzTez18PyV81sTCKPQUREpDVK2MNMzCyd4LneC4AqYJOZLQ8fYAKAu389qv4zwLSwvASYGpb3AXYDhWHVfwAWu/t2M3sK+HNgSaKOQ0REpDVK5Ag8G9jt7pXufhFYBiy+Sv1PEf/Z3g8Cf3D3c+GyAz3C1z2Bgy3UXxERkZSRyMeJDgH2Ry1XATPjVTSz4cBIoDjO6keAv45afhJYYWbngdPA3S3SWxERkRRi7p6YHZs9BOS7+5Ph8mNAtrs/E6funwBDY9eZ2SCgDBjs7rVh2a+Av3T3DWb2x8D4xjZitl0KLAUYOHDg9GXLlrXsAbYz1dXVdOvWTe2qXbWrdlt9u21Jbm7uFnefEXeluyfkC5gFFEQtPwc810TdrcDsOOV/BLwYtdwf2BO1fDuw7Vp9mT59usvNKSkpUbtqV+2q3ZRoty0BNnsT2ZbIa+CbgLFmNtLMOhCcCl8eW8nMxgO9gdfi7CP2uvgJoKeZjQuXFwDbW7TXIiIiKSBh18Ddvc7MngYKgHTgJXevMLPnCf6iaAzzTwHLwr80LjGzEcAwYFXMPr8A/NLMGggC/fOJOgYREZHWKpE3seHuK4AVMWXfjFn+dhPb7iW4ES62/NfAr1uskyIiIilIM7GJiIikIAW4iIhIClKAi4iIpCAFuIiISApSgIuIiKQgBbiIiEgKUoCLiIikIAW4iIhIClKAi4iIpCAFuIiISApSgIuIiKSghAa4mS0ys51mttvM/rSJOg+b2TYzqzCzf48qv93MCs1se7h+RFi+xszeCL8OmtlvEnkMIiIirVHCHmZiZunACwSP/KwCNpnZcnffFlVnLMFzwue4+wkzGxC1i58C33H3lWbWDWgAcPd7o7b/JfDbRB2DiIhIa5XIEXg2sNvdK939IrAMWBxT5wvAC+5+AsDdDwOY2UQgw91XhuXV7n4uekMz6w7kARqBi4hIu5PIAB8C7I9aruLKx4OOA8aZ2VozW29mi6LKT5rZr8xsq5l9LxzRR/sYUOTupxPSexERkVbM3D0xOzZ7CMh39yfD5ceAbHd/JqrO74Fa4GFgKLAGmAzcB/wLMA3YB/wHsMLd/yVq2z8AP3T3XzbR/lJgKcDAgQOnL1u2rMWPsT2prq6mW7dualftql212+rbbUtyc3O3uPuMuCvdPSFfwCygIGr5OeC5mDr/CCyJWi4C7gLuBkqjyh8jONXeuNwXOAZ0up6+TJ8+3eXmlJSUqF21q3bVbkq021ZcPH/egc3eRLYl7CY2YBMw1sxGAgeAR4BHY+r8BvgU8GMz60dw6rwSOAn0NrP+7n6E4Fr35qjtHgJ+7+41Cey/iIjILfde5W4ixQVsf3XVVeslLMDdvc7MngYKgHTgJXevMLPnCf6iWB6uW2hm24B64I/d/RiAmT0LFJmZAVuAf47a/SPAdxPVdxERkVvpwrmzbH91FZGiAg7v3UNGZgfG3T0HfvKfTW6TyBE47r4CWBFT9s2o1w58I/yK3XYlMKWJ/ea0aEdFRERuMXfn4M7tRIoL2Pnaq9RdvED/4SPJ+/yXmHBPDp26doNnnm1y+4QGuIiIiFzu3OlTbFtdTKS4kOMH9tOhc2cmzs0lKy+fgaPGEJx4vjYFuIiISIJ5QwPvlL9JpKiA3ZvW01Bfx6Bxd7DwS19l/Kx76dCp8w3vUwEuIiKSIGeOHaWi9BUiJSs5feQ9OnXrztT8D5OVt5B+w4bf1L4V4CIiIi2oob6eytc3ESku4O2tW3Bv4PbJH+DeTz3OmOzZZGRmtkg7CnAREZEWcPLdQ0RKCqlYVcTZE8fp2rsPdy3+BFm5C+l126AWb08BLiIi0kx1Fy+ye9NrRIoL2FdehlkaI6dNJ+vJrzBq2gzS0mNnAW85CnAREZEbdHT/O0SKC9m2upia6jP06D+QOQ9/hkm599G9T79b0gcFuIiIyHWoralhx2uriRQXcuitHaSlZzDmrrvJmp/P8MkfwNIS+XywKynARUREmuDuwdSmRQXsWLeKi+fP02fwUOZ95vNMnDefLj16Jq1vCnAREZEYNWer2f5qKZHiQo7srSSjQ0fGz7qHrLx8Bo+fcN2TrSSSAlxERIRgtH1gRwWRogLeWr+WutqLDBgxmvlPPMUdc+YGU5u2IgkNcDNbBPwtwcNMfuju341ZvwT4HsHTygD+3t1/GK6rByJh+T53fyAsN+B/EzyRrB74B3f/u0Qeh4iItF3nTp2kIpza9MTBKjp07sKknPmXpjZtrRIW4GaWDrwALACqgE1mttzdt8VU/Q93fzrOLs67+9Q45UuAYcAd7t5gZgNast8iItL2eUMD75RtJVJcyO7NG2ior2Pw+InMfOrrjJs5h8xOnZLdxWtK5Ag8G9jt7pUAZrYMWAzEBviN+jLwqLs3ALj74Zvcn4iItBNnjh2lvGQl5aUrOX3kMJ2692Daoo+QlZdP36HDkt29G5LIAB8C7I9argJmxqn3CTObC7wFfN3dG7fpZGabgTrgu+7+m7B8NPBJM/sYcAT4qrvvSsgRiIhIyquvq6Py9Y1EigvZ+8bruDcwfMo05n76c4yecXeLTW16q1nwSO4E7NjsISDf3Z8Mlx8Dst39mag6fYFqd79gZl8CHnb3vHDdYHc/aGajgGJgvrvvMbNq4Fvu/n/M7OMEoX9vnPaXAksBBg4cOH3ZsmUJOc72orq6mm7dbv0NHGpX7apdtdtcNadOcHR7hGM7yqk7f47Mrt3oO34y/SZMpmOPXknr143Izc3d4u4z4q1L5Ai8iuBadaOhwMHoCu5+LGrxn4G/jFp3MPy30sxKgWnAnnC/vwyr/Rr4UbzG3f1F4EWAGTNmeE5OTvOPRCgtLSUZ76HaVbtqV+3eiLqLF9m1cR2RogL2b4tgaWmMuvMusvIWMnJqYqc2vdUSGeCbgLFmNpLgLvNHgEejK5jZIHc/FC4+AGwPy3sD58KReT9gDvBXYb3fAHnAS8A8glPvIiLSjh3dt5ey4gK2ry6h5mw1PQcMZM4nH2Nyzn1069M32d1LiIQFuLvXmdnTQAHBx8hecvcKM3se2Ozuy4GvmtkDBNe5jxPcYQ4wAfgnM2sA0giugTfe/PZd4N/M7OtANfBkoo5BRERar4s159m5bg2RogIO7d5JekYGY+6aRdb8fG6fNOWWT216qyX0c+DuvgJYEVP2zajXzwHPxdluHZDVxD5PAh9u2Z6KiEgqcHfe27OLsuICdqxdTW3NefoMGUbO408y4d7cpE5teqtpJjYREWn1aqqr2f5qCZGiAo7s20tGx46Mv/tesubnM3jcHa1iatNb7aoBbmY9gP7uviemfIq7lyW0ZyIi0q65O1Xby4OpTTespb62loGjxnDfk1/hjjnz6NilS7K7mFRNBriZPQz8DXDYzDKBJe6+KVz9Y+DOxHdPRETam7MnT1CxqojykkJOHDpIxy5dmZy7kKy8hQwcOTrZ3Ws1rjYC/zNgursfMrNs4Gdm9mfu/iug/Z2rEBGRhGloqOedN7dSVlRA5esbaaivZ8gdE5n5sU8y7u45ZHZs/VOb3mpXC/D0xo94uftGM8sFfm9mQ4HEzP4iIiLtyumjh4OpTUte4cyxI3Tu3oNpH3yArLyF9B2SWlOb3mpXC/AzZja68fp3OBLPIfgc9qRb0TkREWl76uvqqNyykbLiAva++ToAw7OmMu+xJxhz10zSM1JzatNb7WoB/mUgzcwmNn4G293PhI8IfeSW9E5ERNqM4wcPUF5SSMWqIs6dOkm3Pn25++OfZHLOAnoOGJjs7qWcJgPc3d8EMLNyM/sZwUxoncJ/ZwA/uyU9FBGRlFV78QK7N6yjrLiAqm3lWFoao6dnk5WXz4gP3NlqpjZ1d7zBaah3Ghr/rQ/K6usb3l8XtT4oa7him0vroteHdS7bT33DpbL6esej99MQLF/N9XwOfCbBHOXrgO7AvxFMbSoiIm2ce1RgXRFUDXFCKahz/OBe9hQUUfaj/0ttzTm69hrAhLmfYOjEWXTs3JOa8872de/GhGL8oGwMs8b2osvqo4P0iuCN7ltDTPBeGcbJYAZp6WlYupGebliakZZmpKUHX1dzPQFeC5wHOhOMwN9ufBa3iEh7dSlUmgiP9wPi/RHa2SPOgZ0n3g+OmBHa+6O2awdkvEC7vP331x0/1sDxTVviBlpsmMWOBm8k2NwvUn9xB/UXyvH6d4F00jLHkNktizqG8XbEeDtykJjnWsUVG2RpjeGW3liedmk5PXpdupGRmXbZ+ve3Cf619LQ4ZdH7SbusbUsL16UbaWmXb/t+G1duE93Xy7Zp7JMF9a7m8e80ve56AnwT8FvgLqAvwRzlD7r7g9exrYi0I+6OO9cdSuePO+9WnooZUTU0eSozNiivHFFdOUKLHt011j16pIHfvrH1ukd/DfUNV5zebO5ncfYWbb2p9/jKIAiDI17YheEBkJ6ZRmbHxhC6PHQsTsg1rrcrysLAuxSicOrw2+yPrKFq+0bqay/Qo/8QRk//NNUZPcmeMyemP9H9S7usz5f6kmbtcma1G3U9Af6Eu28OX78LLA6f7X1N4Q1vf0vwMJMfuvt3m6j3IPCfwF1RbWFmtwPbgG+7+/ejytOBzcABd//I9fRFJJmu9/pazUnnyP4zTYdSfex+GqL2E+/UYEOT19eiQ+nwew38vuLNK8MyJiQv7aexT9GnVhuD7QZVFm65+TfYooKtMVhiR2ZRI6b6i1Bf24ClGRkd0i4bKTU9arv+UZbFhGnj+kh5GdOmTY2zPi1mNHd5UKaHx5N2jdFaU4LHek67+fc5yvnqM2xfXUykuJCj+98ho2NHJtwzl6y8fAaNHY+ZUVpaym2j2s/c5LfaNQM8OlCjyq55A1sYsi8ACwie4b3JzJZHPVWssV534KvAhji7+QHwhzjlf0Tw6NEe1+qHtG6N19c8dtQTnnq8cMY58e7ZOCOuhitDKdzmyut0758KjL2h5PIAej+U3j3UwMs7I++H4vWe6ryiP++XXa89L2+6dqXrFH19rclRWnoaF8/DufSLl04VpqUbGR3Srzz1d9mpxMsD7fKRXdOhZNZ42jONim3lTJk65bK+WbjuqqdQo4M07dqnIWMFgTa9xd7n6/X2UWPI+N63vN2W4g0N7N9WTqS4gF0b11FfW8tto8ey4AtPM3723HY/temtlsiHmWQDu929EsDMlgGLCUbU0f4XwZ3tz0YXmtlHgUrgbEz5UIKnkX0H+EZCet4KuMcEVv2VIdLUHY3xRkWXrsNd4xrdFUHa4Hh9AwcPNLCysiLOCDLOHZhXuUMz3vW2a9n9X/H+trs5ccPB3n9dcwFO1J2LWy8jMw2Lc+rv/QBKi1MWPZpLix9Kacb2HdvJmjI5zmnNq438mjgVegPBFgTaXS3+Pl/LvlPG8Elt81nNbcnZkycoL32F8uJCTr53iI5dupKVt5CsvHwGjBiV7O61W4kM8CHA/qjlKoI72i8xs2nAMHf/vZk9G1XeFfgTgtH7ZcFOMD/7fye4I/661F6oD24cueLuxaavtTX5sYHoIL2O05rxw+3a19o8SXPdxbseZmlGbS28e/b0FdfBosMko0N6nFOOV57WjHet7dKNIzGjuJ07dzJp8sT4pzXT7f0gjRtuaVf29TqvrwWBNvOqdRLh4LkdjJra/5a3KxKroaGevW++TqSogD1bNuINDQydMJlZDz3K2JmzyezQMdldbPcSGeDxfkNeiiUzSyM4Rb4kTr2/AH7g7tXRv2jN7CPAYXffEs4K13TjZkuBpQDD+o3jNz+4uRtHLA2w4JTkpddpUctRr82usj4DyAzKMsL9kRZT14IRYry2Ytu56vqYPjfZ1mWvG99vJ/ounerqc3TrlnZT72HjHq/rIwz1wVdG/7McOLv9ptptjurqakpLS9Wu2m137V44c4pj28s5urOc2uozZHTqzIAp0+l3RxadevfhcD0cXvdai7crNy6RAV4FRE9kO5TLPzvQHZgMlIahcRuw3MweIBipP2hmfwX0AhrMrIZgVP+AmX2I4CNtPczsX939M7GNu/uLwIsAUyZP9Y9+fdoV1+ii79JsalTZeBqyvd8RGYxIc9Su2lW7bbDd+rpa9mzeQKS4kL1lwWBnxJRpZM3PZ/T07GZPbZqs420vEhngm4CxZjYSOEAw/eqjjSvd/RTQr3HZzEqBZ8Ob5u6NKv82UO3ufx8WPReW54T1rwjvWB06ZaT0jSMiIolw/GAVkeJgatPzp0/RvW9/Zn3iESbnLKBH/wHJ7p5cQ8IC3N3rzOxpoIDgY2QvuXuFmT0PbHb35YlqW0RE4qu9UMOuDesoKyrgwI4K0tLTGXVnNlPm5zP8A9NIS2sdU5vKtSVyBI67rwBWxJR9s4m6OU2Uf7uJ8lKg9Gb6JyLSXhzeW0mkuIDta0q5cO4svW4bxL2PLmHSvPl07aUzlKkooQEuIiLJc+HcOXasXcX23/6CLUfeIz0zk3Ez55CVt5ChE7Pa/b09qU4BLiLShrg7h3btoKyogJ2vraHuwgU69+lH7pIvMuHeHDp3u+5P4EorpwAXEWkDzp85zbbVJUSKCzhWtY/Mjp2YMGceWfPz2bH/IHfm5ia7i9LCFOAiIinKGxrYV1FGpLiQ3RvXUV9Xx6Ax41mw9BnumH0vHToHU5vurDqU5J5KIijARURSTPWJ41SUvkJ5yUpOvneITl27MWXBB8nKXUj/4SOT3T25RRTgIiIpoKG+nrff2EKkuJDK14OpTYdNzGL2w59mTPYsTW3aDinARURasVOH36O8pJDy0leoPn6MLj17MeP+j5OVu4Deg4Yku3uSRApwEZFWpq62cWrTAt6JvIFhjJh6J3mf+yKj7swmPUO/ukUBLiLSahyr2k+kpJBtq4o4f+Y03fv1Z/aDjzIp5z569NNT6uRyCnARkSSqvVDDW+vXUlZUwMGd20hLT2f0jJlk5eUzfMpUTW0qTVKAi4gkwXuVu4kUF7L91VIunj9H70FDmPvpzzFp3ny69OyV7O5JCkhogJvZIuBvCR5m8kN3/27M+i8BXyF4+nM1sNTdt5lZNuGjQAmeK/5td/+1mXUCVgMdw77/wt2/lchjEBFpKfUXLvBG4QoixQUcfnsPGZkdGHv3HKbk5TNkwiRNbSo3JGEBbmbpwAvAAoJng28ys+Xuvi2q2r+7+z+G9R8A/hpYBJQDM8Inmg0C3jSz3wEXgDx3rzazTOBVM/uDu69P1HGIiNwMd+fgzu1EigvYtnYVXldH/9tHkPe5LzLhnlw6deuW7C5KikrkCDwb2O3ulQBmtgxYDFwKcHc/HVW/K+Bh+bmo8k5R5U4wUgfIDL88Qf0XEWm2c6dPsW11MZHiQo4f2E9mp870HTeR/E8vYeDosRpty01LZIAPAfZHLVcBM2MrmdlXgG8AHYC8qPKZwEvAcOAxd68Ly9OBLcAY4AV335CoAxARuRHe0MC+8jIixQXs3vRaMLXp2PEs/NJXGT/rXtat38BtY8Ylu5vSRlgwqE3Ajs0eAvLd/clw+TEg292faaL+o2H9z8aUTwB+Asx195qo8l7Ar4Fn3L08zv6WAksBBg4cOH3ZsmUtc2DtVHV1Nd2ScKpP7ardVGj3YvUZju2s4Oj2CBfPnCK9Yyf6jptIvwlZdO77/se/2srxtvZ225Lc3Nwt7j4j3rpEjsCrgGFRy0OBg1epvwz4h9hCd99uZmeBycDmqPKTZlbK+9fMY7d7kfBGuBkzZnhOTs6NH4FcUlpaSjLeQ7Wrdltruw319VRu3UykuIC3X9+MewO3T57C5Lx8xt41i4wOHRLSbnO0t3bbi0QG+CZgrJmNBA4AjwCPRlcws7Huvitc/DCwKywfCewPb2IbDowH9ppZf6A2DO/OwH3AXybwGERELnPyvXcvTW169sRxuvbqzV2LP8Hk3AX0vm1wsrsn7UjCAjwM36eBAoKPkb3k7hVm9jyw2d2XA0+b2X1ALXACaDx9fg/wp2ZWCzQAT7n7UTObAvwkvA6eBvzc3X+fqGMQEYFgatPdm14jUlTAvvI3MUtj5LTpZD3xFCOnzdDUppIUCf2pc/cVwIqYsm9Gvf6jJrb7GfCzOOVlwLQW7qaISFzHqvYRKS6gYnUJNWdO06P/AGY//GkmzdPUppJ8+rNRRCRKbU0NO19bQ6S4kINvbSctPYMxM2aSNT+f4VlTsbS0ZHdRBFCAi4jg7hx+ew9lRS+zY+0qLp4/T+/BQ5n7mc8zaW6epjaVVkkBLiLtVs3Zana8uoqy4gKO7K0kI7MD42bdQ1beQobcoRsmE5UAACAASURBVKlNpXVTgItIu+LuVB+q4g8v/DVvrV9L3cUL9B8xivmf/zJ33DOPTl31uWVJDQpwEWkXzp0+xbZVRcHUpger6NC5M5Pm5ZGVl8/AUWOS3T2RG6YAF5E2yxsaeCfyBpHiQnZvWk9DfR2Dx01geG4+i5d8gcxOnZLdRZFmU4CLSJtz5thRyktXUl6yktNHDtOpew+mLfowWXn59B16O6WlpQpvSXkKcBFpE+rr6qjcuony4kLe3rolnNr0A9z76BLG3DWLjMzMZHdRpEUpwEUkpZ1891Aw2cqqIs6ePEHX3n3I/uiDTM5ZQK/bBiW7eyIJowAXkZRTd/Eiuza9RnlxAfvKy4KpTe+cQVZePqOmzSAtPT3ZXRRJOAW4iKSMo/vfIVJcyLbVxdRUn6HngIHM+eRjTMqZT/c+/ZLdPZFbKqEBbmaLgL8leJjJD939uzHrvwE8CdQBR4DPu/s7ZjaV4NGiPYB64Dvu/h/hNv8GzCB4AMpG4IvuXpvI4xCR5LlYc/7S1KaH3toRTG2aPYspefncPnmKpjaVdithAR4+MewFYAHBs8E3mdlyd98WVW0rMMPdz5nZl4G/Aj4JnAMed/ddZjYY2GJmBe5+Evg34DPh9v9O8AfAFc8RF5HU5e68t2cXkeJCdqwLpjbtM2QY8x57golz8+jSo2eyuyiSdIkcgWcDu929EsDMlgGLgUsB7u4lUfXXEwazu78VVeegmR0G+gMnwyecEe5zIzA0gccgIrdQTXU1218tIVJcyJF33iajQ0fGz7qXrLyFDB4/QVObikRJZIAPAfZHLVcBM69S/wngD7GFZpYNdAD2xJRnAo8BcR9JKiKpwd05sL2CsuICdq1fS13tRQaMHM19Tz7FHXPm0bFL12R3UaRVMndPzI7NHgLy3f3JcPkxINvdn4lT9zPA08A8d78QVT4IKAU+6+7rY7b5Z+Csu3+tifaXAksBBg4cOH3ZsmUtclztVXV1Nd263fo5otVu22239txZDkW2cnrPTi6cOkFahw70HTuBfhOm0KX/wIS23Z7e5/bYbluSm5u7xd1nxFuXyBF4FTAsankocDC2kpndB/wPrgzvHsB/AX8eJ7y/RXBK/YtNNe7uLwIvAsyYMcNzcnKafSACpaWlJOM9VLttq92GhnreKXuDSHEBezZvoKG+niF3TCTr00sYd/ccMjvemtnR2vr73N7bbS8SGeCbgLFmNhI4ADwCPBpdwcymAf8ELHL3w1HlHYBfAz919/+M2eZJIB+Y7+4NCey/iLSQ00ePUF6ykvLSlZw5eiSc2vR+znfvzQc/9olkd08kJSUswN29zsyeBgoIPkb2krtXmNnzwGZ3Xw58D+gG/Gd4c8o+d38AeBiYC/Q1syXhLpe4+xvAPwLvAK+F2/zK3Z9P1HGISPPU19VR+fpGIkUFvP3m6+DO8CnTmPeZzzN6xt1kZGZSWlqa7G6KpKyEfg48vGN8RUzZN6Ne39fEdv8K/GsT6zT5jEgrduLdg0SKC6kofYVzp07SrXcf7v7Yw0zOXUDPAbclu3sibYbCUERuWt3Fi+zauI5IUQH7t0WwtDRG3ZlNVt5CRk6drqlNRRJAAS4izXZk314ixQVsX11Czdlqeg68jXseeZxJ8+bTrU/fZHdPpE1TgIvIDblYc54da1dTXlzIod07Sc/IYEz2bLLyFnL7JE1tKnKrKMBF5JrcnXf3vEWkqIAd69ZQW3OevkNvJ+fxLzBxbi6du/dIdhdF2h0FuIg06Xz1GbavCaY2PbpvLxkdg6lNp8zPZ9DYOzS1qUgSKcBF5DLuTtW2CGVFBezauI762loGjhrLgi88zfjZc+nYpUuyuygiKMBFJHT25AkqVhURKS7g5LuH6NilK1l5C8nKy2fAiFHJ7p6IxFCAi7RjDQ317H3zdfa8/Fu2vviDcGrTScz6xKcYO3P2LZvaVERunAJcpB06ffRwMLVpySucOXaEjE6dufNDi5mcu4C+Q4ZdewciknQKcJF2or6ujsotGykrLmDvm68DMGLKNHIef4KqsxeYN39+knsoIjdCAS7Sxh0/eIDykkIqVhUFU5v27cfdH3+EyTn30XNA8NjOg5qTXCTlJDTAzWwR8LcEDzP5obt/N2b9XOBvgCnAI+7+i6h1LwN3A6+6+0eiyp8GvgaMBvq7+9FEHoNIKqq9eIFdG9YRKS6gals5lpbG6OnZZOXlM2LqnaSlaWpTkVSXsAA3s3TgBWABwbPBN5nZcnffFlVtH7AEeDbOLr4HdOHKZ36vBX4PlLZwl0VS3uG9lUSKC9n+agkXzp6l18BB3POpzzI55z669uqd7O6JSAtK5Ag8G9jt7pUAZrYMWAxcCnB33xuuu+K53u5eZGY5ccq3htskpNMiqebi+XPsWLuaSHEB7+7ZRXpmJmOzZzNlfj5DJ0zW1KYibVQiA3wIsD9quQqYmcD2RNoNd+fQrh1EigvZuW4NtRdq6DdsOLlLljLh3lw6d+ue7C6KSIKZuydmx2YPAfnu/mS4/BiQ7e7PxKn7Y+D30dfAw/Ic4Nnoa+BR6/YCM5q6Bm5mS4GlAAMHDpy+bNmymzqe9q66uppu3bqp3SS3W1dznmNvbePotjJqThwjLSOT3mPuoP/EKXQZcFuzz0y11uNVu2q3vcvNzd3i7jPirUvkCLwKiP5A6VDgYALbu4y7vwi8CDBjxgzPycm5VU23SaWlpSTjPVS74A0N7N8WIVJcyK4Na6mvq+O2MePIeuhT3DF7Lh063/zUpq3peNWu2pXrk8gA3wSMNbORwAHgEeDRBLYn0qZUnzhORekrlJes5OR7h+jYtStZ8xcxZX4+/YePTHb3RCTJEhbg7l4XfuSrgOBjZC+5e4WZPQ9sdvflZnYX8GugN3C/mf2Fu08CMLM1wB1ANzOrAp5w9wIz+yrw34HbgDIzW9F4ml4k1XlDA5WvbyJSXMCeLRvxhgaGTpzM7IceZczM2WR26JjsLopIK5HQz4G7+wpgRUzZN6NebyI4tR5v23ubKP874O9asJsiSXfq8HuUl64k8vLvef1sNV169mLGRz7G5NyF9Bk8JNndE5FWSDOxiSRJfV0tezZvoKyogHcibwDQY+hwPvjFrzJqejbpGfrvKSJN028IkVvs2IH9lJespGJVEedPn6J73/7M+sSnmJx7H6+Xb2PszNnJ7qKIpAAFuMgtUHuhhrfWryVSXMCBHdtIS09n9PSZZOUtZPgHpkVNbbrtqvsREWmkABdJoMN7KykrKmDHq6VcOHeW3oMGc++jS5g0b76mNhWRm6IAF2lhF86dY8faVUSKC3ivcjfpmZmMmzmHrLyFDJ2YpWmARaRFKMBFWkDj1KZlRQXsfG0NdRcu0O/2EeQu+SIT782lk2ajEpEWpgAXuQnnTp9i+5pSIsUFHKvaR2anzky4J4esvIXcNnqcRtsikjAKcJEb5A0N7KsoI1JUwO5Nr1FfV8egMeNZsPQZ7pgzlw6dOie7iyLSDijARa5T9fFjVKwqIlJSyKn33qVT125MWfBBsvLy6X/7iGR3T0TaGQW4yFU01Nfz9hubiRQXUvn6JryhgWGTpjDn4c8wNns2GR06JLuLItJOKcBF4rhw+iSvLvsZFaUrqT5xPJja9P6Pk5W7gN6DNLWpiCRfQgPczBYBf0vwMJMfuvt3Y9Z3BH4KTAeOAZ90973huueAJ4B64KvuXnA9+xRprrraWvZsXk9ZUQH7Im9glsaIqXeS98SXGTXtLk1tKiKtSsJ+I5lZOvACsIDg2eCbzGy5u0dPNfUEcMLdx5jZI8BfAp80s4kEjx+dBAwGXjGzceE219qntKDfbD3A9wp2cuDkeYasL+aP88fz0WltawR6rGo/keICtq0u5vyZ03Tv159Bd83mI0u+QI9+/ZPdPZGU8lL5S0zuO5nsQdmXyjYe2kj5sXI+P/nzSexZ25PIIUU2sNvdKwHMbBmwmMvnilwMfDt8/Qvg7y343M1iYJm7XwDeNrPd4f64jn1KC/nN1gM896sI52vrAThw8jzP/SoCkPIhXltTw871rxIpLuTgznBq0xkzmZKXz+1TprJ69RqFt0gzTO47mWdXPcv3530fCMI7ellaTiIDfAiwP2q5CpjZVJ3w+eGngL5h+fqYbRsT41r7lBbyvYKdl8K70fnaer5XsDNlA/y9yt1EigvY/uoqLp4/R+9BQ5j76c8xad58uvTslezuiaS87EHZfH/e93l21bPM7DSTDas28P15379sRC4tI5EBHm8GC7/OOk2Vp13HPoMdmy0FlgIMHDiQ0tLSJjsq8R04eb7J8lv1flZXV990W/UXLnB813aObo9w7uh7WHoGvUePo9+EKXQbNISzZmzc+kaLt9scalfttpV2Z3aaycunXmZRz0Wc23mO0p23tv32IJEBXgUMi1oeChxsok6VmWUAPYHj19j2WvsEwN1fBF4EmDFjhufk5DTrINqzIeuL44b4kF6duVXvZ2lpabPacncO7txOpLiAna+9St3FC/QfPpK7H/gSE+7JoVPXq09t2tx2b5baVbttod2NhzayYdUGFvVcxIaaDTw0/iGNwBMgkQG+CRhrZiOBAwQ3pT0aU2c58FngNeBBoNjd3cyWA/9uZn9NcBPbWGAjwcj8WvuUFvLH+eMvuwYO0DkznT/OH5/EXl3dudOn2La6mEhxIccP7KdD585MnJtLVl4+A0eN0dSmIgkWfc373M5zPDT+oUvLCvGWlbAAD69pPw0UEHzk6yV3rzCz54HN7r4c+BfgZ+FNascJApmw3s8Jbk6rA77i7vUA8faZqGNo7xqvc1+6C71X51Z5F7o3NPBO+ZtEigvZvfE1GurrGDTuDvK/9EeMm3WPpjYVuYXKj5VfCuvSnaWXromXHytXgLewhH6w1d1XACtiyr4Z9boGeKiJbb8DfOd69imJ89FpQ/jotCFJO/V3NWeOH6Wi5BUiJSs5feQ9OnXrztT8D5OVt5B+w4Ynu3si7VK8j4plD8pWeCeAZqaQlNJQX0/l65uIFBfw9tYtuDdw++QPcO+nHmfMXbM0tamItBsKcEkJJ989RKSkkIpVRZw9cZyuvXpz1+JPkJW7kF63DUp290REbjkFuLRadbW1HN+1g/9cU8i+8jLM0hg5bTpZTzzFqDvvIi09PdldFBFJGgW4tDpH979DpLiQbauLqak+Q4/+A5j98KeZnLOA7n37Jbt7IiKtggJcWoXamhp2vraGsuICDr21g7T0DMbcdTfe7zbu//TjWFq8OXxERNovBbgkjbtz+O09lBW9zI61q7h4/jx9Bg9l3mc+z8R58+nSoyelpaUKbxGROBTgcsvVnK1m+6ulRIoLObK3kowOHRl39xyy5uczZPxETbYiInIdFOByS7g7B3ZUECkq4K31a6mrvciAEaOZ/8RTTLhnHh27dE12F0VEUooCXBLq3KmTVIRTm544WEWHzl2YlHMfWXkLGThqTLK7JyKSshTg0uK8oYF3yrYGU5tu3kBDfR2Dx09k5lNfZ9zMOWR26pTsLoqIpDwFuLSYM8eOUl6ykvLSlZw+cphO3XswbdFHyMrLp+/QYdfegYiIXDcFuNyU+ro6KrduIlJUwN43Xg+mNs2aytxPf47RM+4mIzMz2V0UEWmTFODSLCfePUh5cTi16ckTdO3dh+yPPkRW3gJ6Drgt2d0TEWnzFOBy3eouXmTXpteIFBWwv6IMS0tj1J13kZW3kJFTZ2hqUxGRW0gBLtd0dN9e9r9azD/97J+oqT5DzwEDueeRx5k0bz7d+vRNdvdERNolBbjEdbHmPDvXrSFSXMChXTuxtHTGzZxN1vx8bp80RbOjiYgkmQJcLnF33t3zFpHiQnasXU1tzXn6DBlGzuNPciKtA/d98EPJ7qKIiIQU4EJNdTXb1pRQXlzAkX17yejQkfGz7iVrfj6Dx92BmVFaWprsboqISBQFeDvl7lRtLw+mNt2wlvraWgaOGsN9Tz7FHXM0tamISGunAG9nzp48QcWqIspLCjlx6CAdOndhcs4CsubnM3Dk6GR3T0RErpMCvB1oaKjnnTe3UlZUQOXrG2mor2fIHROZ+bFPMu7uOWR21NSmIiKpRgHehp0+ejiY2rTkFc4cO0Ln7j2Y9sEHyMpbSN8hmtpURCSVKcDbmPq6Oiq3bKSsuIC9b74OwPCsqcx77AnG3DWT9AxNbSoi0hYowNuIE4cOEAmnNj136iTd+vTl7o9/ksk5C+g5YGCyuyciIi1MAZ7Cai9eYPeGdZQVF1C1rTyc2jSbKfPzGfGBOzW1qYhIG6YAT0FH3nmbSHEh29YUc+HsWXoOvC2Y2jTnPrr17pPs7omIyC2gAE8RF8+fY8e61USKC3l391ukZ2QwduYcsvIWMmxilqY2FRFpZxTgrZi78+7utygrKmDnutXUXqih79Dbyf3sF5hwby6du/dIdhdFRCRJFOCt0PnqM2xfU0KkqICj+98ho2NH7pg9l6y8fAaNHY+ZJbuLIiKSZArwVsLd2V8RIVJcwK6N68KpTcey4AtPM372XDp26ZLsLoqISCuiAE+yxqlNI8UFnHz3EB27diUrL5+svIUMGDEq2d0TEZFWSgGeBA0N9ex983UiRYWXpjYdOmEysx58lLEzZ5PZoWOyuygiIq2cAvwWOn3kMJGSlZSXrqT62FE69+jJnR9aTFbeQvoMHprs7omISApRgCdYfV0te7ZsJFJUwN6yrQCM+MCd5H72C4yenq2pTUVEpFkU4Aly/GBVMNnK6mLOnTpJ9779mfWJR5ics4Ae/Qcku3siIpLiFOAtqPbiBXatX0tZUQEHdlSQlp7OqDuzyZq/MJjaNE1Tm4qISMtQgLeAw3sriRQXsH1NKRfOnaXXbYO499ElTJo3n669eie7eyIi0gYpwJvpwrlz7Fi7ikhxIe9V7iI9M5Ox2bOZMj+foROzNNmKiIgklAL8Brg7h3btIFJcyI51q6m7cIF+w4aTu2RpMLVpt+7J7qKIiLQTCvDrcP7MabatLiFSXMCxqn1kduzEhDnzyMrL57Yx4zTaFhGRW04B3gRvaGD/tgiR4kJ2bVhLfV0dt40Zx4Klz3DH7Hvp0FlTm4qISPIowGNUnzhORekrlJes5OR7wdSmU+77IFl5C+k/fGSyuyciIgIowAFoqK/n7Te2ECkOpjb1hgaGTcxi9sOfZkz2LE1tKiIirU67DvBTh9+jvKSQ8tJXqD5+jC49ezHj/o+TlbuA3oOGJLt7IiIiTWp3AV5fV8vuTRuIFBfwTuQNDGPE1DvJ+9wXGXVnNukZ7e4tERGRFNRu0urYgf3B1Karijh/5jTd+/Vn9oOPMinnPnr065/s7omIiNyQdhHgxw9W8eNvfJm09HRGz5hJVl4+w6dM1dSmIiKSstpFgDfU12tqUxERaVPaRYD3Gzac7MUPJrsbIiIiLcbcPdl9SDgzOwK8k+x+pLh+wFG1q3bVrtpNgXbbkuHuHvdGrXYR4HLzzGyzu89Qu2pX7ard1t5ue5GW7A6IiIjIjVOAi4iIpCAFuFyvF9Wu2lW7ajdF2m0XdA1cREQkBWkELiIikoIU4O2QmS0ys51mttvM/jTO+o5m9h/h+g1mNiJq3XNh+U4zy7/efV5nu3PN7HUzqzOzB2PWvWxmJ83s9zHlT4f7czPr18x2v2Fm28yszMyKzGx4WD7VzF4zs4pw3Sejtvm3cJ/lZvaSmWU2o90vmVnEzN4ws1fNbGJYnh2WvWFmb5rZx8LyTma2MSyrMLO/aM7xRtV7MHzfZsSU325m1Wb2bEx5upltjf0e3MDxLjGzI1HH9mTUuvqo8uVR5WZm3zGzt8xsu5l9tTnHa2YPh9/jCjP795hjLQz3va3xZ93M1kT156CZ/aYZx/uDqH28ZWYnw/LcqPI3zKzGzD4arpsf/h9o/JkY04x2bzezkvB7VWZmHwrLM83sJ+HP3HYzey5qmz8Kf5YrzOxrTbyHL5nZYTMrb2K9mdnfhf0qM7M7o9Z91sx2hV+fjSqfHvZnd7itxdu3NMHd9dWOvoB0YA8wCugAvAlMjKnzFPCP4etHgP8IX08M63cERob7Sb/OfV5PnRHAFOCnwIMx6+YD9wO/jymfFm63F+jXzOPNBbqEr78cdbzjgLHh68HAIaBXuPwhwMKv/wd8uRnt9oh6/QDwcvi6C5ARvh4EHCaYdMmAbmF5JrABuPtG2w3rdQdWA+uBGTHrfgn8J/BsTPk3gH+P/R7cwPEuAf6+iZ/L6ibKPxf+PKSFywOa0e5YYCvQO3YfQCmwIHzdrfHnIM778Xhz3ueo+s8AL8Up7wMcj/r5ewuYEPX/8MfNON4XG38eCf7P7g1fPwosi/oZ20vwf2cyUN74cwe8QvhzH7PfucCdQHkTx/gh4A/hz+ndwIaoY6wM/+0dvm78XmwEZoXb/AH44PX8HtNX8KURePuTDex290p3vwgsAxbH1FkM/CR8/QtgfviX8WKCXwAX3P1tYHe4v+vZ5zXruPtedy8DGmI77e5FwJk45Vvdfe/NHK+7l7j7uXBxPTA0LH/L3XeFrw8SBGn/cHmFhwh+CQ1tRrunoxa7Ah6Wn3P3urC8U1S5u3t1WJ4ZfsXexHI93wuA/wX8FVATXRiOBCuBipjyocCHgR/G2deNtHujvgw87+4NAO5+uBntfgF4wd1PRO8jPOOR4e4rw/LqqJ8DwjrdgTwgdgR+o8f7KYI/9GI9CPwhql0HeoSvewIHm9FuU/twoKuZZQCdgYvAaWACsD7q524V8LHYjrr7aoI/NpqyGPhp+HO6HuhlZoOAfGClux8PvwcrgUXhuh7u/lr4/+inwEevsn+JoQBvf4YA+6OWq8KyuHXC/9CngL5X2faG9nmVOolwo+0+QTASuIyZZROMePbElGcCjwEvN6ddM/uKme0hCNOvRpXPNLMKIAJ8qTHQw9PYbxD8MbHS3TfcaLtmNg0Y5u6xlyO6An8CxDs1/zfAfyfOH1c3crzAJ8LTq78ws2FR5Z3MbLOZrW88nRwaDXwyXPcHMxvbjHbHAePMbG24/0VR5SfN7Ffh6ebvmVnsE44+BhTF/LF1I8eLBZdkRgLFcVY/wuXB/iSwwsyqCH6uvtuMdr8NfCbcxwqC0T8Ef4yfJTiTtA/4vrsfJxh9zzWzvmbWhWAkPYwbd6O/H4aEr692LHIVCvD2J941pthRXFN1brT8RttNhOtu18w+A8wAvhdTPgj4GfC5xpFglP8LrHb3Nc1p191fcPfRBMH551HlG9x9EnAX8JyZdQrL6919KsGIP9vMJt9Iu2aWBvwA+G9x6v0F8IOoUX7jNh8BDrv7ljjbXFe7od8BI9x9CsFp2p9Erbvdgxm7HgX+xsxGh+UdgZpw3T8DLzWj3QyC0+g5BCPhH5pZr7D8XuBZgvd5FMFp/mhNjZxv5Of5EeAX7l5/2Q6Cn6ssoCCq+OvAh9x9KPAj4K+b0e6nCE69DyUI45+F3/dsoJ7gctBI4L+Z2Sh33w78JcHI+GWC0/J13LhE/N6Qq1CAtz9VXP7X9VCuPE13qU54uq0nwamzpra9oX1epU4iXFe7ZnYf8D+AB9z9QlR5D+C/gD8PTwtGb/MtglPq32huu1GWEef0YfjL9SzBdcro8pME128XxWxyrXa7h/sqNbO9BNcql1twI9tM4K/C8q8Bf2ZmTwNzgAfC8mVAnpn9640er7sfi3pv/xmYHrXuYPhvZXhc06L2+8vw9a8J7pG4oXbDOr9199rw0s9OgkCvAraGp6PrCE6TR9941Zcg9P6LK93I9zd2lN3oYeDX7l4bttcf+EDUWZX/AGY3o90ngJ8DuPtrBJdh+hH8cfRy+D4cBtYS/MGKu/+Lu9/p7nMJ/q/vauJYruZGfz9Ucfmlp1v1O6HtuNmL6PpKrS+CUUclwV/gjTfBTIqp8xUuv4nt5+HrSVx+E1slwU0117PPa9aJqvtjYm5iC8tziHMDVbhuL/FvYruevk0jODU+Nqa8A1AEfC3Ofp8E1gGdb+J9Hhv1+n5gc/h6JO/fxDac4JdaP4I/FhpvousMrAE+0tz3OaxfSsxNbGH5t4m5ie1q34PrPN5BUa8/RnDdFYIbmzqGr/sRhMfEcPm7wOej2t7UjHYXAT+J2v9+gktC6WH9/uG6HwFfidruS43bNed4w3rjw59Ni7NuPZAbs8+jwLhw+Qngl8043j8AS8LXE8KfHyM4y/Oj8HVXYBswJaw3IPz3dmAH4U1mcfo8gqZvYvswl9/EtjEs7wO8HX6fe4ev+4TrNoV1G29i+1BTP6v6ivOeJ7sD+krCNz04rfYWQWj9j/+/vbt3jSIIAzD+DIoIRhD/ArEKImJhGkvFj1I7C7EwjZWdlSgYBAUrQRux9KOwSycIBgQFBUmMCQjaaSFiKQoJrMX7BoaYg7uLyTHk+cFy5L2bnd1hd9/dnc1OxqaIq0+IM/ZnxENqb4H9VdmrWe4T1ROja81ziHoniLPyX8BPYKEq+wr4AfzO35zK+OX8ezkPVA+HqPcF8B2YzWk64+eBpSo+CxzO75Zzfivx60PUe5d4WGwWeEkeiIm+z5X4e+BMxg8RT1N/IPot/6mzn3pX/XaG/5DA+1zfW7lec7m+4xk/SvT1z+XnZDXPPcQV8DzwhrhCHbTeQtyKXsz5nKvKnsj2nCdOHHesapvTw+5HVTveXqPsPuAb+XR9FT9btcUM1b43wPoeIK6u53IbOpnxMWK/Xsi2uLJq/1rMMsd7rO9Tov98idjnJomTnEtVO9/P5ZqvtyvgInE8+Ux0Ra3EjxDb8hfgHmuc6Dj1nnwTmyRJDbIPXJKkBpnAJUlqkAlckqQGmcAlSWqQCVySpAaZwCWtS+kxUpykjWUCl7Red4j/XZe0iUzgkvpSSpnIgUh2llJ25djRB7seI8VJ2ljbR70AktrQdd27Uso0cJN4OpOPhQAAAJlJREFUleujrus+jnixpC3LBC5pEFPE+6v/UA1/KmnzeQtd0iD2Eu/U3k28M1/SiJjAJQ3iAXANeEyMIS1pRLyFLqkvpZQLwHLXdU9KKduA16WUY8ANYBwYK6V8JUYTez7KZZW2AkcjkySpQd5ClySpQSZwSZIaZAKXJKlBJnBJkhpkApckqUEmcEmSGmQClySpQSZwSZIa9BdE++Y21PD/gQAAAABJRU5ErkJggg==\n",
      "text/plain": [
       "<Figure size 432x288 with 1 Axes>"
      ]
     },
     "metadata": {
      "needs_background": "light"
     },
     "output_type": "display_data"
    }
   ],
   "source": [
<<<<<<< HEAD
    "#Neural Network's properities: \n",
    "#1. Simple Perceptron with 3 Inputs for a classification problem (classify into 2 given groups(labels))\n",
    "#2. Binary Step as activationsfunction \n",
    "#3. Early Stopping when weights-update are too small\n",
    "#4. Learing-Rate = 0.4\n",
=======
   
>>>>>>> 22e341dbedffdb6d261be177ae028b5f454056b6
    "\n",
    "import numpy as np\n",
    "import matplotlib.pyplot as plt\n",
    "\n",
    "class Perceptron(object):\n",
    "\n",
    "    def __init__(self, no_of_inputs, learning_rate=0.01):\n",
    "        self.learning_rate = learning_rate\n",
    "        self.weights = np.random.uniform(low=0, high=1, size=4)\n",
    "        \n",
    "           \n",
    "    def predict(self, inputs):\n",
    "        '''Diese Funktion berechnet die Gewichtssumme der Eingabe \n",
    "           und gibt ihre Klasse mithilfe der Threshold Funktion zurück'''\n",
    "        summation = np.dot(inputs, self.weights[1:]) + self.weights[0]\n",
    "        if summation > 0:\n",
    "          activation = 1\n",
    "        else:\n",
    "          activation = 0          \n",
    "        return activation\n",
    "\n",
    "    def train(self, training_inputs, labels, ax):\n",
    "        '''Gewichte werden hier mithilfe des Delta Lernregels angepasst\n",
    "           Diese Funktion läuft bis dahin, dass es keine Fehler mehr gibt'''\n",
    "        prevError = np.Inf\n",
    "        counter = 1\n",
    "        \n",
    "        while np.abs(prevError - self.SquareError(training_inputs, labels) > 1e-10):\n",
    "            prevError = self.SquareError(training_inputs, labels)\n",
    "                                    \n",
    "            for inputs, label in zip(training_inputs, labels):\n",
    "                prediction = self.predict(inputs)\n",
    "                self.weights[1:3] += self.learning_rate * (label - prediction) * inputs[0:2]\n",
    "                self.weights[0] += self.learning_rate * (label - prediction)  \n",
    "                \n",
    "            \n",
    "            x = np.linspace(-1,2,100)\n",
    "            ax.plot(x, -((self.weights[1]*x-self.weights[0])/self.weights[2]))\n",
    "            \n",
<<<<<<< HEAD
=======
    "            #falls es noch keine Fehler gibt, endet das Training\n",

>>>>>>> 22e341dbedffdb6d261be177ae028b5f454056b6
    "            \n",
    "                \n",
    "            \n",
    "    def SquareError(self, training_inputs, labels): \n",
    "        '''Diese Funktion berechnet den quadratischen Fehler'''\n",
    "        E = 0\n",
    "        for inputs, label in zip(training_inputs, labels):\n",
    "            prediction = self.predict(inputs)\n",
    "            E = E + (label - prediction)**2\n",
    "        return E\n",
    "\n",
    "\n",
    "#Eingabe von Inputs und ihre gehörenden erwarteten Klassen\n",
    "training_inputs = np.array([(0,0,1), (0,1,0), (1,0,1), (1,1,1)])\n",
    "labels = [0, 0, 1, 0]\n",
    "\n",
    "\n",
    "#Initialisere den Graph mit gegeben Eingaben-Punkten\n",
    "fig = plt.figure()\n",
    "ax = fig.add_axes([0,0,1,1])\n",
    "ax.set(ylabel='x2', xlabel='x1')\n",
    "ax.set_xlim(-0.3,1.3)\n",
    "ax.set_ylim(-0.3,1.3)\n",
    "ax.grid(True)\n",
    "plt.xticks(np.linspace(0,1,10))\n",
    "plt.yticks(np.linspace(0,1,10))\n",
    "def GraphInitial(training_inputs, labels, ax):\n",
    "    '''Diese Funktion visualisiert die Eingaben auf dem Graph \n",
    "       mit o für die Eingabe der Klasse 0 und x für die der Klasse 1'''\n",
    "    for inputs, labels in zip(training_inputs, labels):\n",
    "        if labels == 0:\n",
    "            ax.plot(inputs[0],inputs[1],marker=\"o\")\n",
    "        else: \n",
    "            ax.plot(inputs[0],inputs[1],marker=\"x\")\n",
    "                \n",
    "GraphInitial(training_inputs, labels, ax)\n",
    "\n",
    "\n",
    "#Erzeuge eine Perceptron mit 3 Inputs und Learning Rate von 0.4\n",
    "ExamplePerceptron = Perceptron(3, 0.4)\n",
    "ExamplePerceptron.train(training_inputs, labels, ax)\n",
    "print(\"finale Gewichte\", ExamplePerceptron.weights)\n",
    "\n",
    "plt.show()"
   ]
  },
  {
   "cell_type": "code",
   "execution_count": null,
   "metadata": {},
   "outputs": [],
   "source": []
  },
  {
   "cell_type": "code",
   "execution_count": null,
   "metadata": {},
   "outputs": [],
   "source": []
  },
  {
   "cell_type": "code",
   "execution_count": null,
   "metadata": {},
   "outputs": [],
   "source": []
  },
  {
   "cell_type": "code",
   "execution_count": null,
   "metadata": {},
   "outputs": [],
   "source": []
  }
 ],
 "metadata": {
  "kernelspec": {
   "display_name": "Python 3",
   "language": "python",
   "name": "python3"
  },
  "language_info": {
   "codemirror_mode": {
    "name": "ipython",
    "version": 3
   },
   "file_extension": ".py",
   "mimetype": "text/x-python",
   "name": "python",
   "nbconvert_exporter": "python",
   "pygments_lexer": "ipython3",
   "version": "3.7.3"
  }
 },
 "nbformat": 4,
 "nbformat_minor": 2
}
