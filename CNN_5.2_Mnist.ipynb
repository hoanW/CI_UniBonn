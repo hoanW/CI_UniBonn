{
 "cells": [
  {
   "cell_type": "code",
   "execution_count": 59,
   "metadata": {},
   "outputs": [],
   "source": [
    "from keras.models import Sequential\n",
    "from keras.layers import Dense, Conv2D, MaxPooling2D, Flatten, Dropout\n",
    "from keras.utils.np_utils import to_categorical\n",
    "from keras.layers.normalization import BatchNormalization\n",
    "from keras.datasets import mnist"
   ]
  },
  {
   "cell_type": "markdown",
   "metadata": {},
   "source": [
    "# Loading dataset"
   ]
  },
  {
   "cell_type": "code",
   "execution_count": 60,
   "metadata": {},
   "outputs": [],
   "source": [
    "(X_train, y_train), (X_test, y_test) = mnist.load_data()"
   ]
  },
  {
   "cell_type": "markdown",
   "metadata": {},
   "source": [
    "# Reshaping dataset"
   ]
  },
  {
   "cell_type": "code",
   "execution_count": 61,
   "metadata": {},
   "outputs": [],
   "source": [
    "#reshape input from shape of (60000, 28,28) to the shape of (6000,28,28,1) \n",
    "#with 1 meaning 1 channel, since the images are in grayscale\n",
    "X_train = X_train.reshape(X_train.shape[0], 28, 28, 1)\n",
    "X_test = X_test.reshape(X_test.shape[0], 28, 28, 1)\n",
    "\n",
    "X_train = X_train.astype('float32')\n",
    "X_test = X_test.astype('float32')\n",
    "\n",
    "#rescale the image datas, so that each pixel lies in the interval [0, 1] instead of [0, 255]\n",
    "X_train, X_test = X_train/255, X_test/255\n",
    "\n",
    "\n",
    "\n",
    "#reform labels data, so that each label value turns into an one-hot vector with value 1 in label-position, other positons are 0\n",
    "#for example. Labels = 5 => y = [0,0,0,0,0,1,0,0,0,0]\n",
    "number_of_classes = 10\n",
    "\n",
    "Y_train = to_categorical(y_train, number_of_classes)\n",
    "Y_test = to_categorical(y_test, number_of_classes)"
   ]
  },
  {
   "cell_type": "markdown",
   "metadata": {},
   "source": [
    "# Creating CNN model"
   ]
  },
  {
   "cell_type": "code",
   "execution_count": 62,
   "metadata": {},
   "outputs": [],
   "source": [
    "model = Sequential()\n",
    "\n",
    "#first layer: Convolutional layer \n",
    "model.add(Conv2D(filters=32, kernel_size=(3, 3), activation='relu', input_shape=(28, 28, 1)))\n",
    "BatchNormalization(axis=-1)\n",
    "\n",
    "#second layer: MaxPooling to reduce data dimensions\n",
    "model.add(MaxPooling2D(pool_size=(2, 2)))\n",
    "\n",
    "#third layer: BatchNormalization layer\n",
    "BatchNormalization(axis=-1)\n",
    "\n",
    "model.add(Conv2D(64, (3, 3), activation='relu'))\n",
    "model.add(MaxPooling2D((2, 2)))\n",
    "BatchNormalization(axis=-1)\n",
    "\n",
    "model.add(Conv2D(64, (3, 3), activation='relu'))\n",
    "model.add(MaxPooling2D((2, 2)))\n",
    "model.add(Flatten())\n",
    "BatchNormalization()\n",
    "\n",
    "#fully connected layer\n",
    "model.add(Dense(512, activation='relu'))\n",
    "model.add(Dropout(0.2))\n",
    "BatchNormalization()\n",
    "\n",
    "#output layer\n",
    "model.add(Dense(10, activation='softmax'))"
   ]
  },
  {
   "cell_type": "code",
   "execution_count": 63,
   "metadata": {},
   "outputs": [],
   "source": [
    "model.compile(optimizer='adam',\n",
    "              loss='categorical_crossentropy',\n",
    "              metrics=['accuracy'])"
   ]
  },
  {
   "cell_type": "markdown",
   "metadata": {},
   "source": [
    "# Training the model"
   ]
  },
  {
   "cell_type": "code",
   "execution_count": 64,
   "metadata": {},
   "outputs": [
    {
     "name": "stdout",
     "output_type": "stream",
     "text": [
      "Epoch 1/5\n",
      "60000/60000 [==============================] - 34s 568us/step - loss: 0.2459 - accuracy: 0.9227\n",
      "Epoch 2/5\n",
      "60000/60000 [==============================] - 35s 587us/step - loss: 0.0817 - accuracy: 0.9748\n",
      "Epoch 3/5\n",
      "60000/60000 [==============================] - 36s 599us/step - loss: 0.0589 - accuracy: 0.9817\n",
      "Epoch 4/5\n",
      "60000/60000 [==============================] - 38s 628us/step - loss: 0.0477 - accuracy: 0.9855\n",
      "Epoch 5/5\n",
      "60000/60000 [==============================] - 36s 607us/step - loss: 0.0393 - accuracy: 0.9873\n"
     ]
    },
    {
     "data": {
      "text/plain": [
       "<keras.callbacks.callbacks.History at 0x7f1565a7e668>"
      ]
     },
     "execution_count": 64,
     "metadata": {},
     "output_type": "execute_result"
    }
   ],
   "source": [
    "model.fit(X_train, Y_train, epochs=5, batch_size=64)"
   ]
  },
  {
   "cell_type": "markdown",
   "metadata": {},
   "source": [
    "# Test the performance of the model on test dataset"
   ]
  },
  {
   "cell_type": "code",
   "execution_count": 67,
   "metadata": {},
   "outputs": [
    {
     "name": "stdout",
     "output_type": "stream",
     "text": [
      "10000/10000 [==============================] - 2s 180us/step\n",
      "Test accuracy:  0.9850000143051147\n"
     ]
    }
   ],
   "source": [
    "_, score = model.evaluate(X_test, Y_test, batch_size=64)\n",
    "print('Test accuracy: ', score)"
   ]
  }
 ],
 "metadata": {
  "kernelspec": {
   "display_name": "env_Python 3",
   "language": "python",
   "name": "jupyter3_python_3"
  },
  "language_info": {
   "codemirror_mode": {
    "name": "ipython",
    "version": 3
   },
   "file_extension": ".py",
   "mimetype": "text/x-python",
   "name": "python",
   "nbconvert_exporter": "python",
   "pygments_lexer": "ipython3",
   "version": "3.7.3"
  }
 },
 "nbformat": 4,
 "nbformat_minor": 2
}
