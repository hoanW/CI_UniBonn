{
 "cells": [
  {
   "cell_type": "code",
   "execution_count": 7,
   "metadata": {},
   "outputs": [
    {
     "name": "stdout",
     "output_type": "stream",
     "text": [
      "finale Gewichte [1, -3, -4]\n"
     ]
    },
    {
     "data": {
      "image/png": "[encoded data removed]",
      "text/plain": [
       "<Figure size 432x288 with 1 Axes>"
      ]
     },
     "metadata": {
      "needs_background": "light"
     },
     "output_type": "display_data"
    }
   ],
   "source": [
    "#Neural Network's properities: \n",
    "#1. Simple Perceptron with 2 Inputs for a classification problem (classify into 2 given groups(labels))\n",
    "#2. Binary Step as activationsfunction \n",
    "#3. Early Stopping with preset epoch\n",
    "#4. Learing-Rate = 1\n",
    "\n",
    "\n",
    "import numpy as np\n",
    "import matplotlib.pyplot as plt\n",
    "\n",
    "class Perceptron(object):\n",
    "\n",
    "    def __init__(self, no_of_inputs, epoch=100, learning_rate=0.01):\n",
    "        self.epoch = epoch\n",
    "        self.learning_rate = learning_rate\n",
    "        self.weights = np.zeros(no_of_inputs + 1)\n",
    "        self.weights = [0,-1,1]                  #gegeben initiale Gewichte\n",
    "           \n",
    "    def predict(self, inputs):\n",
    "        '''Diese Funktion berechnet die Gewichtssumme der Eingabe \n",
    "           und klassifisiert diese Eingabe mithilfe der Threshold Funktion als etnweder Klasse 0 oder Klasse 1'''\n",
    "        summation = np.dot(inputs, self.weights[1:]) + self.weights[0]\n",
    "        if summation > 0:\n",
    "          activation = 1\n",
    "        else:\n",
    "          activation = 0            \n",
    "        return activation\n",
    "\n",
    "    def train(self, training_inputs, labels, ax):\n",
    "        '''Gewichte werden hier mithilfe des Delta Lernregels angepasst'''\n",
    "        for _ in range(self.epoch):\n",
    "            for inputs, label in zip(training_inputs, labels):\n",
    "                prediction = self.predict(inputs)\n",
    "                self.weights[1:] += self.learning_rate * (label - prediction) * inputs\n",
    "                self.weights[0] += self.learning_rate * (label - prediction)  \n",
    "        \n",
    "            #gebe die aktuelle Trennlinie nach jeder Iteration zurück\n",
    "            x = np.linspace(-4,3,100)        \n",
    "            ax.plot(x, -((self.weights[1]*x+self.weights[0])/self.weights[2]))\n",
    " \n",
    "\n",
    "                \n",
    "   \n",
    "\n",
    "\n",
    "#Eingabe von Inputs und ihre gehörenden erwarteten Klassen\n",
    "training_inputs = np.array([(-3,-2), (-2,1), (-1,2), (2,1), (2,-1), (2,-3), (0,-1), (1,0)])\n",
    "labels = [1, 1, 0, 0, 0, 1, 1, 0]\n",
    "\n",
    "\n",
    "#Initialisiere den Graph mit gegeben Eingaben-Punkten\n",
    "fig = plt.figure()\n",
    "ax = fig.add_axes([0,0,1,1])\n",
    "ax.set(ylabel='x2', xlabel='x1')\n",
    "def GraphInitial(training_inputs, labels, ax):       \n",
    "        for inputs, labels in zip(training_inputs, labels):\n",
    "            if labels == 0:\n",
    "                ax.plot(inputs[0],inputs[1],marker=\"o\")\n",
    "            else: \n",
    "                ax.plot(inputs[0],inputs[1],marker=\"x\")\n",
    "                \n",
    "GraphInitial(training_inputs, labels, ax)\n",
    "\n",
    "\n",
    "#Erzeuge eine Perceptron mit 2 Inputs, 5 Epoches und Learning Rate =1 \n",
    "ExamplePerceptron = Perceptron(2, 5, 1)\n",
    "ExamplePerceptron.train(training_inputs, labels, ax)\n",
    "print(\"finale Gewichte\", ExamplePerceptron.weights)\n",
    "\n"
   ]
  },
  {
   "cell_type": "code",
   "execution_count": null,
   "metadata": {},
   "outputs": [],
   "source": []
  },
  {
   "cell_type": "code",
   "execution_count": null,
   "metadata": {},
   "outputs": [],
   "source": []
  },
  {
   "cell_type": "code",
   "execution_count": null,
   "metadata": {},
   "outputs": [],
   "source": []
  },
  {
   "cell_type": "code",
   "execution_count": null,
   "metadata": {},
   "outputs": [],
   "source": []
  }
 ],
 "metadata": {
  "kernelspec": {
   "display_name": "Python 3",
   "language": "python",
   "name": "python3"
  },
  "language_info": {
   "codemirror_mode": {
    "name": "ipython",
    "version": 3
   },
   "file_extension": ".py",
   "mimetype": "text/x-python",
   "name": "python",
   "nbconvert_exporter": "python",
   "pygments_lexer": "ipython3",
   "version": "3.7.3"
  }
 },
 "nbformat": 4,
 "nbformat_minor": 2
}
